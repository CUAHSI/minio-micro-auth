{
 "cells": [
  {
   "cell_type": "code",
   "execution_count": null,
   "id": "33de9bb3-ac0f-451a-b48a-bf2620752bd4",
   "metadata": {
    "tags": []
   },
   "outputs": [],
   "source": [
    "!pip install s3fs"
   ]
  },
  {
   "cell_type": "code",
   "execution_count": null,
   "id": "625d1ff7-a99a-483c-bdaf-ac1a9e55e740",
   "metadata": {
    "tags": []
   },
   "outputs": [],
   "source": [
    "from getpass import getpass\n",
    "username = \"<hdyroshare_username>\"\n",
    "password = getpass('Enter your password: ')\n",
    "resource_id = \"<hydroshare_resource_id>\""
   ]
  },
  {
   "cell_type": "code",
   "execution_count": null,
   "id": "5d08ec26-9a26-448f-b6d7-5b7a2c7b08b5",
   "metadata": {
    "tags": []
   },
   "outputs": [],
   "source": [
    "import requests\n",
    "\n",
    "# create access key and secret for the authenticated user\n",
    "response = requests.post(f\"https://beta.hydroshare.org/hsapi/user/service/accounts/s3/\", auth=(username, password))"
   ]
  },
  {
   "cell_type": "code",
   "execution_count": null,
   "id": "d9b2c4cf-93e2-4c4a-bdb1-9d85cee643a0",
   "metadata": {
    "tags": []
   },
   "outputs": [],
   "source": [
    "response_json = response.json()\n",
    "access_key = response_json['access_key']\n",
    "secret_key = response_json['secret_key']"
   ]
  },
  {
   "cell_type": "code",
   "execution_count": null,
   "id": "2f04772e-1620-48ea-98ef-5ca5df84e64b",
   "metadata": {
    "tags": []
   },
   "outputs": [],
   "source": [
    "import s3fs\n",
    "s3 = s3fs.S3FileSystem(key=access_key,\n",
    "                       secret=secret_key,\n",
    "                       endpoint_url='https://s3.beta.hydroshare.org')"
   ]
  },
  {
   "cell_type": "code",
   "execution_count": null,
   "id": "5226a9a2-26a5-41ce-a3e7-cc6bfb8c3619",
   "metadata": {
    "tags": []
   },
   "outputs": [],
   "source": [
    "# get the s3_path for the resource_id\n",
    "response = requests.get(f\"https://beta.hydroshare.org/hsapi/resource/s3/{resource_id}/\", auth=(username, password))\n",
    "response_json = response.json()\n",
    "s3_path = f\"{response_json['bucket']}/{response_json['prefix']}\"\n",
    "\n",
    "s3.ls(s3_path)"
   ]
  },
  {
   "cell_type": "code",
   "execution_count": null,
   "id": "5611bc78-865d-4d72-b389-bf5aefb40266",
   "metadata": {},
   "outputs": [],
   "source": [
    "filename = \"netcdf_valid_header_info.txt\"\n",
    "with s3.open(s3_path + filename, \"r\") as f:\n",
    "    header_info = f.read()\n",
    "print(header_info)"
   ]
  },
  {
   "cell_type": "code",
   "execution_count": null,
   "id": "7741f41d-6450-4cf4-9ed9-c6c12e0d7cb6",
   "metadata": {
    "tags": []
   },
   "outputs": [],
   "source": [
    "filename = \"helloworld.txt\"\n",
    "with s3.open(s3_path + filename, \"w\") as f:\n",
    "    f.write(f\"hello world - {username}\")\n",
    "s3.ls(s3_path)"
   ]
  },
  {
   "cell_type": "code",
   "execution_count": null,
   "id": "faeb7898-9040-4f48-baa6-4737e00c43f5",
   "metadata": {},
   "outputs": [],
   "source": []
  }
 ],
 "metadata": {
  "kernelspec": {
   "display_name": "Python [conda env:base] *",
   "language": "python",
   "name": "conda-base-py"
  },
  "language_info": {
   "codemirror_mode": {
    "name": "ipython",
    "version": 3
   },
   "file_extension": ".py",
   "mimetype": "text/x-python",
   "name": "python",
   "nbconvert_exporter": "python",
   "pygments_lexer": "ipython3",
   "version": "3.12.10"
  }
 },
 "nbformat": 4,
 "nbformat_minor": 5
}
